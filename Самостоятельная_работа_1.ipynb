{
  "nbformat": 4,
  "nbformat_minor": 0,
  "metadata": {
    "colab": {
      "provenance": [],
      "authorship_tag": "ABX9TyOu0jNnjv7OMXpk1sYzV41P",
      "include_colab_link": true
    },
    "kernelspec": {
      "name": "python3",
      "display_name": "Python 3"
    },
    "language_info": {
      "name": "python"
    }
  },
  "cells": [
    {
      "cell_type": "markdown",
      "metadata": {
        "id": "view-in-github",
        "colab_type": "text"
      },
      "source": [
        "<a href=\"https://colab.research.google.com/github/Shemjak/PrakticheskayaRabota1/blob/main/%D0%A1%D0%B0%D0%BC%D0%BE%D1%81%D1%82%D0%BE%D1%8F%D1%82%D0%B5%D0%BB%D1%8C%D0%BD%D0%B0%D1%8F_%D1%80%D0%B0%D0%B1%D0%BE%D1%82%D0%B0_1.ipynb\" target=\"_parent\"><img src=\"https://colab.research.google.com/assets/colab-badge.svg\" alt=\"Open In Colab\"/></a>"
      ]
    },
    {
      "cell_type": "markdown",
      "source": [
        "**[1] Написать цикл для выведения на экран каждой буквы своего ФИО**"
      ],
      "metadata": {
        "id": "L-MVAqpqLRrw"
      }
    },
    {
      "cell_type": "code",
      "execution_count": 3,
      "metadata": {
        "colab": {
          "base_uri": "https://localhost:8080/"
        },
        "id": "NTeNLVISJ_86",
        "outputId": "3cecf427-730b-4ff4-cf1a-9a518221cc40"
      },
      "outputs": [
        {
          "output_type": "stream",
          "name": "stdout",
          "text": [
            "Полищук Денис Владиславович\n",
            "Полищук Денис Владиславович\n",
            "Полищук Денис Владиславович\n",
            "Полищук Денис Владиславович\n",
            "Полищук Денис Владиславович\n",
            "Полищук Денис Владиславович\n",
            "Полищук Денис Владиславович\n",
            "Полищук Денис Владиславович\n",
            "Полищук Денис Владиславович\n",
            "Полищук Денис Владиславович\n"
          ]
        }
      ],
      "source": [
        "for _ in range(10):\n",
        "    print('Полищук Денис Владиславович')\n"
      ]
    },
    {
      "cell_type": "markdown",
      "source": [
        "**[2]Написать функцию для перевода рубля в йену c округлением до 2х знаков после запятой.**"
      ],
      "metadata": {
        "id": "Ik-hQNCPLofo"
      }
    },
    {
      "cell_type": "code",
      "source": [
        "ky=float((\"0.61\"))\n",
        "ryb=float(input(\"Введите количество рублей, которое вам нужно перевести в йены \"))\n",
        "s1=ryb/ky\n",
        "rounded_s1 = round(s1, 2)\n",
        "print(\"Сумма вашего перевода из рубля в йену = \", rounded_s1)"
      ],
      "metadata": {
        "id": "zF-9rRBdLvqv"
      },
      "execution_count": null,
      "outputs": []
    }
  ]
}