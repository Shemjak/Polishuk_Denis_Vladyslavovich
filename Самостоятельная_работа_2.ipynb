{
  "cells": [
    {
      "cell_type": "markdown",
      "metadata": {
        "id": "view-in-github",
        "colab_type": "text"
      },
      "source": [
        "<a href=\"https://colab.research.google.com/github/Shemjak/Polishuk_Denis_Vladyslavovich/blob/main/%D0%A1%D0%B0%D0%BC%D0%BE%D1%81%D1%82%D0%BE%D1%8F%D1%82%D0%B5%D0%BB%D1%8C%D0%BD%D0%B0%D1%8F_%D1%80%D0%B0%D0%B1%D0%BE%D1%82%D0%B0_2.ipynb\" target=\"_parent\"><img src=\"https://colab.research.google.com/assets/colab-badge.svg\" alt=\"Open In Colab\"/></a>"
      ]
    },
    {
      "cell_type": "markdown",
      "metadata": {
        "id": "Zy0CaXp35L2G"
      },
      "source": [
        "# Самостоятельная работа 2. Numpy\n",
        "\n",
        "1. Скачайте этот ноутбук к себе.\n",
        "2. Заполните пропущенные ячейки, отвечая на заданные вопросы. Там должен быть код! (если не сказано обратное)\n",
        "3. Сохраните результат в своём гитхаб репозитории.\n",
        "\n",
        "#### Полезная литература\n",
        "\n",
        "- http://www.numpy.org/\n",
        "- https://jakevdp.github.io/PythonDataScienceHandbook/02.00-introduction-to-numpy.html\n",
        "- https://docs.scipy.org/doc/numpy/user/quickstart.html"
      ]
    },
    {
      "cell_type": "markdown",
      "metadata": {
        "id": "LkojG6ZR5L2J"
      },
      "source": [
        "1) Импортировать numpy и написать версию"
      ]
    },
    {
      "cell_type": "code",
      "execution_count": null,
      "metadata": {
        "id": "xTRAgc7j5L2K"
      },
      "outputs": [],
      "source": [
        "import numpy as np\n",
        "print(np.__version__)"
      ]
    },
    {
      "cell_type": "markdown",
      "metadata": {
        "id": "ImH6BJtQ5L2K"
      },
      "source": [
        "2) Создать нулевой вектор размера 10"
      ]
    },
    {
      "cell_type": "code",
      "execution_count": null,
      "metadata": {
        "id": "btdvqA2I5L2K"
      },
      "outputs": [],
      "source": [
        "Z = np.zeros(10)\n",
        "print(Z)"
      ]
    },
    {
      "cell_type": "markdown",
      "metadata": {
        "id": "qxMtddRn5L2K"
      },
      "source": [
        "\n",
        "\n",
        "3) Создать вектор заполненный 7-ами размера 7"
      ]
    },
    {
      "cell_type": "code",
      "execution_count": null,
      "metadata": {
        "id": "wWVEWzO45L2L"
      },
      "outputs": [],
      "source": [
        "Z = np.full(7,7)\n",
        "print(Z)"
      ]
    },
    {
      "cell_type": "markdown",
      "metadata": {
        "id": "S3uFL7JR5L2L"
      },
      "source": [
        "4) Создать вектор заполненный четными числами от 10 до 100"
      ]
    },
    {
      "cell_type": "code",
      "execution_count": null,
      "metadata": {
        "id": "Eu3qMcvo5L2L"
      },
      "outputs": [],
      "source": [
        "vector = np.arange(10, 100, 2)\n",
        "print(vector)"
      ]
    },
    {
      "cell_type": "markdown",
      "metadata": {
        "id": "Px7bn_jb5L2L"
      },
      "source": [
        "5) Создать массив случайных чисел и развернуть его задом наперёд"
      ]
    },
    {
      "cell_type": "code",
      "execution_count": null,
      "metadata": {
        "id": "Vr0D_BKn5L2L"
      },
      "outputs": [],
      "source": [
        "import random\n",
        "array = [random.randint(1, 100) for _ in range(10)]\n",
        "print(\"Исходный массив:\", array)\n",
        "\n",
        "array.reverse()\n",
        "print(\"Развёрнутый массив:\", array)"
      ]
    },
    {
      "cell_type": "markdown",
      "metadata": {
        "id": "rh4TC58x5L2M"
      },
      "source": [
        "6) Создать двумерную матрицу размера 3 на 3, заполненную числами от 0 до 9"
      ]
    },
    {
      "cell_type": "code",
      "execution_count": null,
      "metadata": {
        "id": "qEkdeUBH5L2M"
      },
      "outputs": [],
      "source": [
        "Z = np.arange(9).reshape(3,3)\n",
        "print(Z)"
      ]
    },
    {
      "cell_type": "markdown",
      "metadata": {
        "id": "_uzQJHz95L2M"
      },
      "source": [
        "7) Создать матрицу размера 4 на 4 с единицами на диагонали смещеной на один наверх."
      ]
    },
    {
      "cell_type": "code",
      "execution_count": null,
      "metadata": {
        "id": "7ejt0D7H5L2M"
      },
      "outputs": [],
      "source": [
        "matrix = np.array([[0, 1, 0, 0],\n",
        "                  [0, 0, 1, 0],\n",
        "                  [0, 0, 0, 1],\n",
        "                  [0, 0, 0, 0]])\n",
        "print(matrix)"
      ]
    },
    {
      "cell_type": "markdown",
      "metadata": {
        "id": "AkaFMXLY5L2M"
      },
      "source": [
        "8) Создать матрицу с числами в диапазоне от 1 до 4 по диагонали. В других ячейках матрицы должны быть семерки."
      ]
    },
    {
      "cell_type": "code",
      "execution_count": null,
      "metadata": {
        "id": "RtrNwB7z5L2N"
      },
      "outputs": [],
      "source": [
        "matrix = np.array([[1, 7, 7, 7],\n",
        "                  [7, 2, 7, 7],\n",
        "                  [7, 7, 3, 7],\n",
        "                  [7, 7, 7, 4]])\n",
        "print(matrix)"
      ]
    },
    {
      "cell_type": "markdown",
      "metadata": {
        "id": "wyx7whSr5L2N"
      },
      "source": [
        "9) Создать матрицу размера 5 на 5 заполненную чилами от 0 до 4 в строках."
      ]
    },
    {
      "cell_type": "code",
      "execution_count": null,
      "metadata": {
        "id": "9edS0Kyj5L2N"
      },
      "outputs": [],
      "source": [
        "matrix = np.array([[0, 1, 2, 3, 4],\n",
        "                  [0, 1, 2, 3, 4],\n",
        "                  [0, 1, 2, 3, 4],\n",
        "                  [0, 1, 2, 3, 4],\n",
        "                  [0, 1, 2, 3, 4]])\n",
        "print(matrix)"
      ]
    },
    {
      "cell_type": "markdown",
      "metadata": {
        "id": "aOURGmya5L2N"
      },
      "source": [
        "10) Создать матрицу случайных чисел размера 10 на 10 и отнять среднее по строкам из каждого элемента строки"
      ]
    },
    {
      "cell_type": "code",
      "execution_count": null,
      "metadata": {
        "id": "TDPPqctz5L2N"
      },
      "outputs": [],
      "source": [
        "matrix = np.random.rand(10, 10)\n",
        "print(\"Исходная матрица:\")\n",
        "print(matrix)\n",
        "\n",
        "row_means = np.mean(matrix, axis=1)\n",
        "matrix -= row_means[:, np.newaxis]\n",
        "print(\"Матрица после вычитания среднего по строкам:\")\n",
        "print(matrix)"
      ]
    },
    {
      "cell_type": "markdown",
      "metadata": {
        "id": "S6Wfk4lG5L2N"
      },
      "source": [
        "11) Создать матрицу случайных чисел размера 10 на 10 и отнять медиану по столбцам из каждого элемента столбца  "
      ]
    },
    {
      "cell_type": "code",
      "execution_count": null,
      "metadata": {
        "id": "HVVzEv3E5L2O"
      },
      "outputs": [],
      "source": [
        "matrix = np.random.rand(10, 10)\n",
        "medians = np.median(matrix, axis=0)\n",
        "result = matrix - medians\n",
        "print(result)"
      ]
    },
    {
      "cell_type": "markdown",
      "metadata": {
        "id": "eJYPGt0w5L2O"
      },
      "source": [
        "12) Создать матрицу случайных чисел 5x5. Добавить к ней столбецы максимумов и минимумов по строкам. Получится матрица 5x7.  "
      ]
    },
    {
      "cell_type": "code",
      "execution_count": null,
      "metadata": {
        "id": "d8gRW2Iv5L2O"
      },
      "outputs": [],
      "source": [
        "matrix = np.random.normal(size=(5, 5))\n",
        "max_rows = np.max(matrix, axis=1)\n",
        "min_rows = np.min(matrix, axis=1)\n",
        "result = np.column_stack((matrix, max_rows, min_rows))\n",
        "print(result)"
      ]
    },
    {
      "cell_type": "markdown",
      "metadata": {
        "id": "-q87yDqY5L2O"
      },
      "source": [
        "13) Вектор чисел от 1 до 51 преобразовать в вектор нечетных чисел и в вектор четных чисел, поменять их размерности, чтобы получились две матрица. Найти произведение этих матриц. Найти обратную матрицу эётого произведения.  "
      ]
    },
    {
      "cell_type": "code",
      "execution_count": null,
      "metadata": {
        "id": "jPnnIhDl5L2O"
      },
      "outputs": [],
      "source": [
        "a =np.mat(np.arange(1,50)[1::2]).reshape(4,6)\n",
        "b =np.mat(np.arange(1,50)[2::2]).reshape(6,4)\n",
        "print(a*b)\n",
        "print(np.linalg.inv(a*b))"
      ]
    },
    {
      "cell_type": "code",
      "source": [
        "from google.colab import drive\n",
        "drive.mount('/content/drive')"
      ],
      "metadata": {
        "id": "gYCfDyb2Spgm"
      },
      "execution_count": null,
      "outputs": []
    },
    {
      "cell_type": "markdown",
      "metadata": {
        "id": "AVGv8xu95L2O"
      },
      "source": [
        "14) Создать 8x8 матрицу и заполнить её в шахматном порядке нулями и единицами."
      ]
    },
    {
      "cell_type": "code",
      "execution_count": null,
      "metadata": {
        "id": "8cQIO5vg5L2O"
      },
      "outputs": [],
      "source": [
        "Z = np.zeros((8,8), dtype=int)\n",
        "Z[1::2,::2] = 1\n",
        "Z[::2,1::2] = 1\n",
        "print(Z)"
      ]
    }
  ],
  "metadata": {
    "kernelspec": {
      "display_name": "Python 3",
      "language": "python",
      "name": "python3"
    },
    "language_info": {
      "codemirror_mode": {
        "name": "ipython",
        "version": 3
      },
      "file_extension": ".py",
      "mimetype": "text/x-python",
      "name": "python",
      "nbconvert_exporter": "python",
      "pygments_lexer": "ipython3",
      "version": "3.8.0"
    },
    "colab": {
      "provenance": [],
      "include_colab_link": true
    }
  },
  "nbformat": 4,
  "nbformat_minor": 0
}