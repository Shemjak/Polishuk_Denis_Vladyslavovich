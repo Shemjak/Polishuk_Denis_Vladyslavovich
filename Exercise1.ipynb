{
  "cells": [
    {
      "cell_type": "markdown",
      "source": [
        "Полищук Денис Владиславович"
      ],
      "metadata": {
        "id": "sFXzDIF04Qar"
      }
    }
  ],
  "metadata": {
    "kernelspec": {
      "display_name": "Python 2",
      "language": "python",
      "name": "python2"
    },
    "language_info": {
      "codemirror_mode": {
        "name": "ipython",
        "version": 2
      },
      "file_extension": ".py",
      "mimetype": "text/x-python",
      "name": "python",
      "nbconvert_exporter": "python",
      "pygments_lexer": "ipython2",
      "version": "2.7.16"
    },
    "colab": {
      "provenance": []
    }
  },
  "nbformat": 4,
  "nbformat_minor": 0
}